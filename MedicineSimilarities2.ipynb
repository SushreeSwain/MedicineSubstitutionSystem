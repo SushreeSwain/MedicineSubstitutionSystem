{
 "cells": [
  {
   "cell_type": "code",
   "execution_count": 155,
   "metadata": {},
   "outputs": [],
   "source": [
    "import numpy as np\n",
    "import pandas as pd"
   ]
  },
  {
   "cell_type": "code",
   "execution_count": 156,
   "metadata": {},
   "outputs": [],
   "source": [
    "medicines = pd.read_csv(r'c:\\Users\\Sushree S Swain\\Desktop\\medicines.csv')"
   ]
  },
  {
   "cell_type": "code",
   "execution_count": 157,
   "metadata": {},
   "outputs": [],
   "source": [
    "num_rows_to_read = 1000  \n",
    "df = pd.read_csv(r'c:\\Users\\Sushree S Swain\\Desktop\\medicines.csv', nrows=num_rows_to_read)"
   ]
  },
  {
   "cell_type": "code",
   "execution_count": 158,
   "metadata": {},
   "outputs": [
    {
     "data": {
      "text/html": [
       "<div>\n",
       "<style scoped>\n",
       "    .dataframe tbody tr th:only-of-type {\n",
       "        vertical-align: middle;\n",
       "    }\n",
       "\n",
       "    .dataframe tbody tr th {\n",
       "        vertical-align: top;\n",
       "    }\n",
       "\n",
       "    .dataframe thead th {\n",
       "        text-align: right;\n",
       "    }\n",
       "</style>\n",
       "<table border=\"1\" class=\"dataframe\">\n",
       "  <thead>\n",
       "    <tr style=\"text-align: right;\">\n",
       "      <th></th>\n",
       "      <th>Drug_Name</th>\n",
       "      <th>Reason</th>\n",
       "      <th>Description</th>\n",
       "    </tr>\n",
       "  </thead>\n",
       "  <tbody>\n",
       "    <tr>\n",
       "      <th>0</th>\n",
       "      <td>A CN Gel(Topical) 20gmA CN Soap 75gm</td>\n",
       "      <td>Acne</td>\n",
       "      <td>Mild to moderate acne (spots)</td>\n",
       "    </tr>\n",
       "    <tr>\n",
       "      <th>1</th>\n",
       "      <td>A Ret 0.05% Gel 20gmA Ret 0.1% Gel 20gmA Ret 0...</td>\n",
       "      <td>Acne</td>\n",
       "      <td>A RET 0.025% is a prescription medicine that i...</td>\n",
       "    </tr>\n",
       "  </tbody>\n",
       "</table>\n",
       "</div>"
      ],
      "text/plain": [
       "                                           Drug_Name Reason   \n",
       "0               A CN Gel(Topical) 20gmA CN Soap 75gm   Acne  \\\n",
       "1  A Ret 0.05% Gel 20gmA Ret 0.1% Gel 20gmA Ret 0...   Acne   \n",
       "\n",
       "                                         Description  \n",
       "0                      Mild to moderate acne (spots)  \n",
       "1  A RET 0.025% is a prescription medicine that i...  "
      ]
     },
     "execution_count": 158,
     "metadata": {},
     "output_type": "execute_result"
    }
   ],
   "source": [
    "medicines.head(2)"
   ]
  },
  {
   "cell_type": "code",
   "execution_count": 159,
   "metadata": {},
   "outputs": [
    {
     "data": {
      "text/plain": [
       "(22481, 3)"
      ]
     },
     "execution_count": 159,
     "metadata": {},
     "output_type": "execute_result"
    }
   ],
   "source": [
    "medicines.shape"
   ]
  },
  {
   "cell_type": "code",
   "execution_count": 160,
   "metadata": {},
   "outputs": [
    {
     "data": {
      "text/plain": [
       "Drug_Name       0\n",
       "Reason          0\n",
       "Description    14\n",
       "dtype: int64"
      ]
     },
     "execution_count": 160,
     "metadata": {},
     "output_type": "execute_result"
    }
   ],
   "source": [
    "medicines.isnull().sum()"
   ]
  },
  {
   "cell_type": "code",
   "execution_count": 161,
   "metadata": {},
   "outputs": [
    {
     "name": "stdout",
     "output_type": "stream",
     "text": [
      "<class 'pandas.core.frame.DataFrame'>\n",
      "RangeIndex: 22481 entries, 0 to 22480\n",
      "Data columns (total 3 columns):\n",
      " #   Column       Non-Null Count  Dtype \n",
      "---  ------       --------------  ----- \n",
      " 0   Drug_Name    22481 non-null  object\n",
      " 1   Reason       22481 non-null  object\n",
      " 2   Description  22467 non-null  object\n",
      "dtypes: object(3)\n",
      "memory usage: 527.0+ KB\n"
     ]
    }
   ],
   "source": [
    "medicines.info()"
   ]
  },
  {
   "cell_type": "code",
   "execution_count": 162,
   "metadata": {},
   "outputs": [],
   "source": [
    "medicines.dropna(inplace=True)"
   ]
  },
  {
   "cell_type": "code",
   "execution_count": 163,
   "metadata": {},
   "outputs": [
    {
     "data": {
      "text/plain": [
       "0"
      ]
     },
     "execution_count": 163,
     "metadata": {},
     "output_type": "execute_result"
    }
   ],
   "source": [
    "medicines.duplicated().sum()"
   ]
  },
  {
   "cell_type": "code",
   "execution_count": 164,
   "metadata": {},
   "outputs": [
    {
     "data": {
      "text/plain": [
       "0                            Mild to moderate acne (spots)\n",
       "1        A RET 0.025% is a prescription medicine that i...\n",
       "2        It is used to treat acne vulgaris in people 12...\n",
       "3        It is used to treat acne vulgaris in people 12...\n",
       "4        treat the most severe form of acne (nodular ac...\n",
       "                               ...                        \n",
       "22476                              used for treating warts\n",
       "22477                        used to soften the skin cells\n",
       "22478                                       used for scars\n",
       "22479                                      used for wounds\n",
       "22480    used to treat and remove raised warts (usually...\n",
       "Name: Description, Length: 22467, dtype: object"
      ]
     },
     "execution_count": 164,
     "metadata": {},
     "output_type": "execute_result"
    }
   ],
   "source": [
    "medicines['Description']"
   ]
  },
  {
   "cell_type": "code",
   "execution_count": 165,
   "metadata": {},
   "outputs": [
    {
     "data": {
      "text/plain": [
       "0                      [Mild, to, moderate, acne, (spots)]\n",
       "1        [A, RET, 0.025%, is, a, prescription, medicine...\n",
       "2        [It, is, used, to, treat, acne, vulgaris, in, ...\n",
       "3        [It, is, used, to, treat, acne, vulgaris, in, ...\n",
       "4        [treat, the, most, severe, form, of, acne, (no...\n",
       "                               ...                        \n",
       "22476                         [used, for, treating, warts]\n",
       "22477                 [used, to, soften, the, skin, cells]\n",
       "22478                                   [used, for, scars]\n",
       "22479                                  [used, for, wounds]\n",
       "22480    [used, to, treat, and, remove, raised, warts, ...\n",
       "Name: Description, Length: 22467, dtype: object"
      ]
     },
     "execution_count": 165,
     "metadata": {},
     "output_type": "execute_result"
    }
   ],
   "source": [
    "medicines['Description'].apply(lambda x:x.split())"
   ]
  },
  {
   "cell_type": "code",
   "execution_count": 166,
   "metadata": {},
   "outputs": [],
   "source": [
    "medicines['Reason'] = medicines['Reason'].apply(lambda x:x.split())\n",
    "medicines['Description'] = medicines['Description'].apply(lambda x:x.split())"
   ]
  },
  {
   "cell_type": "code",
   "execution_count": 167,
   "metadata": {},
   "outputs": [],
   "source": [
    "medicines['Description'] = medicines['Description'].apply(lambda x:[i.replace(\" \",\"\") for i in x])"
   ]
  },
  {
   "cell_type": "code",
   "execution_count": 168,
   "metadata": {},
   "outputs": [],
   "source": [
    "medicines['Description'] = medicines['Description'].apply(lambda x:[i.replace(\" \",\"\") for i in x])"
   ]
  },
  {
   "cell_type": "code",
   "execution_count": 169,
   "metadata": {},
   "outputs": [],
   "source": [
    "medicines['tags'] = medicines['Description'] + medicines['Reason'] "
   ]
  },
  {
   "cell_type": "code",
   "execution_count": 170,
   "metadata": {},
   "outputs": [],
   "source": [
    "new_df = medicines[['Drug_Name','tags']]"
   ]
  },
  {
   "cell_type": "code",
   "execution_count": 171,
   "metadata": {},
   "outputs": [
    {
     "data": {
      "text/plain": [
       "0                       Mild to moderate acne (spots) Acne\n",
       "1        A RET 0.025% is a prescription medicine that i...\n",
       "2        It is used to treat acne vulgaris in people 12...\n",
       "3        It is used to treat acne vulgaris in people 12...\n",
       "4        treat the most severe form of acne (nodular ac...\n",
       "                               ...                        \n",
       "22476                        used for treating warts Wound\n",
       "22477                  used to soften the skin cells Wound\n",
       "22478                                 used for scars Wound\n",
       "22479                                used for wounds Wound\n",
       "22480    used to treat and remove raised warts (usually...\n",
       "Name: tags, Length: 22467, dtype: object"
      ]
     },
     "execution_count": 171,
     "metadata": {},
     "output_type": "execute_result"
    }
   ],
   "source": [
    "new_df['tags'].apply(lambda x:\" \".join(x))"
   ]
  },
  {
   "cell_type": "code",
   "execution_count": 172,
   "metadata": {},
   "outputs": [],
   "source": [
    "medicines=new_df.head(1000)"
   ]
  },
  {
   "cell_type": "code",
   "execution_count": 173,
   "metadata": {},
   "outputs": [],
   "source": [
    "import nltk"
   ]
  },
  {
   "cell_type": "code",
   "execution_count": 174,
   "metadata": {},
   "outputs": [],
   "source": [
    "from nltk.stem.porter import PorterStemmer\n",
    "ps = PorterStemmer()"
   ]
  },
  {
   "cell_type": "code",
   "execution_count": 175,
   "metadata": {},
   "outputs": [],
   "source": [
    "from sklearn.feature_extraction.text import CountVectorizer\n",
    "cv = CountVectorizer(stop_words='english',max_features=5000)"
   ]
  },
  {
   "cell_type": "code",
   "execution_count": 176,
   "metadata": {},
   "outputs": [],
   "source": [
    "from sklearn.feature_extraction.text import CountVectorizer\n",
    "document_list = [' '.join(tag_list) for tag_list in medicines['tags']]\n",
    "\n",
    "cv3 = CountVectorizer()\n",
    "vectors = cv3.fit_transform(document_list).toarray()"
   ]
  },
  {
   "cell_type": "code",
   "execution_count": 177,
   "metadata": {},
   "outputs": [],
   "source": [
    "new_df=medicines.head(1000)"
   ]
  },
  {
   "cell_type": "code",
   "execution_count": 178,
   "metadata": {},
   "outputs": [
    {
     "data": {
      "text/plain": [
       "array([0, 0, 2, 0, 0, 0, 0, 0, 0, 0, 0, 0, 0, 0, 0, 0, 0, 0, 0, 0, 0, 0,\n",
       "       0, 0, 0, 0, 0, 0, 0, 0, 0, 0, 0, 0, 0, 0, 0, 0, 0, 0, 0, 0, 0, 1,\n",
       "       1, 0, 0, 0, 0, 0, 0, 0, 0, 0, 0, 0, 0, 0, 0, 0, 0, 0, 0, 0, 0, 0,\n",
       "       0, 0, 0, 0, 0, 0, 0, 1, 0, 0, 0, 0, 0, 0, 0, 1, 0, 0, 0, 0, 0, 0,\n",
       "       0, 0, 0, 0, 0, 0], dtype=int64)"
      ]
     },
     "execution_count": 178,
     "metadata": {},
     "output_type": "execute_result"
    }
   ],
   "source": [
    "vectors[0]"
   ]
  },
  {
   "cell_type": "code",
   "execution_count": 179,
   "metadata": {},
   "outputs": [
    {
     "name": "stderr",
     "output_type": "stream",
     "text": [
      "c:\\Users\\Sushree S Swain\\Downloads\\lib\\site-packages\\sklearn\\utils\\deprecation.py:87: FutureWarning: Function get_feature_names is deprecated; get_feature_names is deprecated in 1.0 and will be removed in 1.2. Please use get_feature_names_out instead.\n",
      "  warnings.warn(msg, category=FutureWarning)\n"
     ]
    },
    {
     "data": {
      "text/plain": [
       "['025',\n",
       " '12',\n",
       " 'acne',\n",
       " 'actives',\n",
       " 'adhd',\n",
       " 'age',\n",
       " 'all',\n",
       " 'allergic',\n",
       " 'allergies',\n",
       " 'allergy',\n",
       " 'and',\n",
       " 'anti',\n",
       " 'appearance',\n",
       " 'applied',\n",
       " 'as',\n",
       " 'be',\n",
       " 'blackheads',\n",
       " 'both',\n",
       " 'can',\n",
       " 'care',\n",
       " 'combined',\n",
       " 'condition',\n",
       " 'disorders',\n",
       " 'dry',\n",
       " 'feeling',\n",
       " 'fine',\n",
       " 'for',\n",
       " 'form',\n",
       " 'fresh',\n",
       " 'from',\n",
       " 'gives',\n",
       " 'good',\n",
       " 'has',\n",
       " 'heads',\n",
       " 'help',\n",
       " 'helps',\n",
       " 'improve',\n",
       " 'in',\n",
       " 'is',\n",
       " 'it',\n",
       " 'itching',\n",
       " 'lines',\n",
       " 'medicine',\n",
       " 'mild',\n",
       " 'moderate',\n",
       " 'most',\n",
       " 'natural',\n",
       " 'nodular',\n",
       " 'of',\n",
       " 'often',\n",
       " 'older',\n",
       " 'on',\n",
       " 'or',\n",
       " 'origin',\n",
       " 'pain',\n",
       " 'people',\n",
       " 'pimple',\n",
       " 'pimples',\n",
       " 'prescription',\n",
       " 'red',\n",
       " 'reduce',\n",
       " 'refer',\n",
       " 'releief',\n",
       " 'relief',\n",
       " 'ret',\n",
       " 'scalp',\n",
       " 'scaly',\n",
       " 'severe',\n",
       " 'skin',\n",
       " 'smooth',\n",
       " 'soft',\n",
       " 'soothen',\n",
       " 'soothens',\n",
       " 'spots',\n",
       " 'supple',\n",
       " 'swelling',\n",
       " 'swollen',\n",
       " 'synthetic',\n",
       " 'tenderness',\n",
       " 'that',\n",
       " 'the',\n",
       " 'to',\n",
       " 'treat',\n",
       " 'treatment',\n",
       " 'type',\n",
       " 'types',\n",
       " 'used',\n",
       " 'vulgaris',\n",
       " 'when',\n",
       " 'which',\n",
       " 'white',\n",
       " 'with',\n",
       " 'wrinkles',\n",
       " 'years']"
      ]
     },
     "execution_count": 179,
     "metadata": {},
     "output_type": "execute_result"
    }
   ],
   "source": [
    "cv3.get_feature_names()"
   ]
  },
  {
   "cell_type": "code",
   "execution_count": 180,
   "metadata": {},
   "outputs": [],
   "source": [
    "from sklearn.metrics.pairwise import cosine_similarity"
   ]
  },
  {
   "cell_type": "code",
   "execution_count": 181,
   "metadata": {},
   "outputs": [
    {
     "data": {
      "text/plain": [
       "array([0.27386128, 1.        , 0.35032452, 0.35032452, 0.19364917,\n",
       "       0.19364917, 0.19364917, 0.21081851, 0.21081851, 0.25819889,\n",
       "       0.0745356 , 0.27386128, 1.        , 0.35032452, 0.35032452,\n",
       "       0.19364917, 0.19364917, 0.19364917, 0.21081851, 0.21081851,\n",
       "       0.25819889, 0.0745356 , 0.13801311, 0.15569979, 0.21535276,\n",
       "       0.27386128, 1.        , 0.35032452, 0.35032452, 0.19364917,\n",
       "       0.19364917, 0.19364917, 0.21081851, 0.21081851, 0.25819889,\n",
       "       0.0745356 , 0.27386128, 1.        , 0.35032452, 0.35032452,\n",
       "       0.19364917, 0.19364917, 0.19364917, 0.21081851, 0.21081851,\n",
       "       0.25819889, 0.0745356 , 0.13801311, 0.15569979, 0.21535276,\n",
       "       0.0745356 , 0.27386128, 1.        , 0.35032452, 0.35032452,\n",
       "       0.19364917, 0.19364917, 0.19364917, 0.21081851, 0.21081851,\n",
       "       0.25819889, 0.0745356 , 0.13801311, 0.0745356 , 0.27386128,\n",
       "       1.        , 0.35032452, 0.35032452, 0.19364917, 0.19364917,\n",
       "       0.19364917, 0.21081851, 0.21081851, 0.25819889, 0.0745356 ,\n",
       "       0.13801311, 0.0745356 , 0.27386128, 1.        , 0.35032452,\n",
       "       0.35032452, 0.19364917, 0.19364917, 0.19364917, 0.21081851,\n",
       "       0.21081851, 0.25819889, 0.0745356 , 0.13801311, 0.15569979,\n",
       "       0.21535276, 0.0745356 , 0.27386128, 1.        , 0.35032452,\n",
       "       0.35032452, 0.19364917, 0.19364917, 0.19364917, 0.21081851,\n",
       "       0.21081851, 0.25819889, 0.0745356 , 0.13801311, 0.0745356 ,\n",
       "       0.13801311, 0.15569979, 0.21535276, 0.27386128, 1.        ,\n",
       "       0.35032452, 0.35032452, 0.19364917, 0.19364917, 0.19364917,\n",
       "       0.21081851, 0.21081851, 0.25819889, 0.0745356 , 0.27386128,\n",
       "       1.        , 0.35032452, 0.35032452, 0.19364917, 0.19364917,\n",
       "       0.19364917, 0.21081851, 0.21081851, 0.25819889, 0.0745356 ,\n",
       "       0.13801311, 0.15569979, 0.21535276, 0.0745356 , 0.27386128,\n",
       "       1.        , 0.35032452, 0.35032452, 0.19364917, 0.19364917,\n",
       "       0.19364917, 0.21081851, 0.21081851, 0.25819889, 0.0745356 ,\n",
       "       0.13801311, 0.0745356 , 0.27386128, 1.        , 0.35032452,\n",
       "       0.35032452, 0.19364917, 0.19364917, 0.19364917, 0.21081851,\n",
       "       0.21081851, 0.25819889, 0.0745356 , 0.13801311, 0.0745356 ,\n",
       "       0.27386128, 1.        , 0.35032452, 0.35032452, 0.19364917,\n",
       "       0.19364917, 0.19364917, 0.21081851, 0.21081851, 0.25819889,\n",
       "       0.0745356 , 0.13801311, 0.15569979, 0.21535276, 0.0745356 ,\n",
       "       0.27386128, 1.        , 0.35032452, 0.35032452, 0.19364917,\n",
       "       0.19364917, 0.19364917, 0.21081851, 0.21081851, 0.25819889,\n",
       "       0.0745356 , 0.13801311, 0.0745356 , 0.13801311, 0.15569979,\n",
       "       0.21535276, 0.27386128, 1.        , 0.35032452, 0.35032452,\n",
       "       0.19364917, 0.19364917, 0.19364917, 0.21081851, 0.21081851,\n",
       "       0.25819889, 0.0745356 , 0.27386128, 1.        , 0.35032452,\n",
       "       0.35032452, 0.19364917, 0.19364917, 0.19364917, 0.21081851,\n",
       "       0.21081851, 0.25819889, 0.0745356 , 0.13801311, 0.15569979,\n",
       "       0.21535276, 0.0745356 , 0.27386128, 1.        , 0.35032452,\n",
       "       0.35032452, 0.19364917, 0.19364917, 0.19364917, 0.21081851,\n",
       "       0.21081851, 0.25819889, 0.0745356 , 0.13801311, 0.0745356 ,\n",
       "       0.27386128, 1.        , 0.35032452, 0.35032452, 0.19364917,\n",
       "       0.19364917, 0.19364917, 0.21081851, 0.21081851, 0.25819889,\n",
       "       0.0745356 , 0.13801311, 0.0745356 , 0.27386128, 1.        ,\n",
       "       0.35032452, 0.35032452, 0.19364917, 0.19364917, 0.19364917,\n",
       "       0.21081851, 0.21081851, 0.25819889, 0.0745356 , 0.13801311,\n",
       "       0.15569979, 0.21535276, 0.0745356 , 0.27386128, 1.        ,\n",
       "       0.35032452, 0.35032452, 0.19364917, 0.19364917, 0.19364917,\n",
       "       0.21081851, 0.21081851, 0.25819889, 0.0745356 , 0.13801311,\n",
       "       0.0745356 , 0.13801311, 0.15569979, 0.21535276, 0.27386128,\n",
       "       1.        , 0.35032452, 0.35032452, 0.19364917, 0.19364917,\n",
       "       0.19364917, 0.21081851, 0.21081851, 0.25819889, 0.0745356 ,\n",
       "       0.27386128, 1.        , 0.35032452, 0.35032452, 0.19364917,\n",
       "       0.19364917, 0.19364917, 0.21081851, 0.21081851, 0.25819889,\n",
       "       0.0745356 , 0.13801311, 0.15569979, 0.21535276, 0.0745356 ,\n",
       "       0.27386128, 1.        , 0.35032452, 0.35032452, 0.19364917,\n",
       "       0.19364917, 0.19364917, 0.21081851, 0.21081851, 0.25819889,\n",
       "       0.0745356 , 0.13801311, 0.0745356 , 0.27386128, 1.        ,\n",
       "       0.35032452, 0.35032452, 0.19364917, 0.19364917, 0.19364917,\n",
       "       0.21081851, 0.21081851, 0.25819889, 0.0745356 , 0.13801311,\n",
       "       0.0745356 , 0.27386128, 1.        , 0.35032452, 0.35032452,\n",
       "       0.19364917, 0.19364917, 0.19364917, 0.21081851, 0.21081851,\n",
       "       0.25819889, 0.0745356 , 0.13801311, 0.15569979, 0.21535276,\n",
       "       0.0745356 , 0.27386128, 1.        , 0.35032452, 0.35032452,\n",
       "       0.19364917, 0.19364917, 0.19364917, 0.21081851, 0.21081851,\n",
       "       0.25819889, 0.0745356 , 0.13801311, 0.0745356 , 0.13801311,\n",
       "       0.15569979, 0.21535276, 0.27386128, 1.        , 0.35032452,\n",
       "       0.35032452, 0.19364917, 0.19364917, 0.19364917, 0.21081851,\n",
       "       0.21081851, 0.25819889, 0.0745356 , 0.27386128, 1.        ,\n",
       "       0.35032452, 0.35032452, 0.19364917, 0.19364917, 0.19364917,\n",
       "       0.21081851, 0.21081851, 0.25819889, 0.0745356 , 0.13801311,\n",
       "       0.15569979, 0.21535276, 0.0745356 , 0.27386128, 1.        ,\n",
       "       0.35032452, 0.35032452, 0.19364917, 0.19364917, 0.19364917,\n",
       "       0.21081851, 0.21081851, 0.25819889, 0.0745356 , 0.0745356 ,\n",
       "       0.        , 0.21081851, 0.93333333, 0.32659863, 0.32659863,\n",
       "       0.1490712 , 0.1490712 , 0.1490712 , 0.12909944, 0.12909944,\n",
       "       0.19518001, 0.        , 0.0745356 , 0.        , 0.21081851,\n",
       "       0.93333333, 0.32659863, 0.32659863, 0.1490712 , 0.1490712 ,\n",
       "       0.1490712 , 0.12909944, 0.12909944, 0.19518001, 0.        ,\n",
       "       0.0745356 , 0.07784989, 0.16151457, 0.        , 0.21081851,\n",
       "       0.93333333, 0.32659863, 0.32659863, 0.1490712 , 0.1490712 ,\n",
       "       0.1490712 , 0.12909944, 0.12909944, 0.19518001, 0.        ,\n",
       "       0.0745356 , 0.        , 0.        , 0.        , 0.        ,\n",
       "       0.        , 0.        , 0.        , 0.        , 0.        ,\n",
       "       0.        , 0.09759001, 0.        , 0.        , 0.        ,\n",
       "       0.        , 0.        , 0.        , 0.        , 0.        ,\n",
       "       0.        , 0.        , 0.09759001, 0.        , 0.        ,\n",
       "       0.        , 0.        , 0.        , 0.        , 0.        ,\n",
       "       0.        , 0.        , 0.        , 0.09759001, 0.        ,\n",
       "       0.        , 0.        , 0.        , 0.        , 0.        ,\n",
       "       0.        , 0.        , 0.        , 0.        , 0.09759001,\n",
       "       0.        , 0.        , 0.        , 0.        , 0.        ,\n",
       "       0.        , 0.        , 0.        , 0.        , 0.        ,\n",
       "       0.09759001, 0.        , 0.        , 0.        , 0.        ,\n",
       "       0.        , 0.        , 0.        , 0.        , 0.        ,\n",
       "       0.        , 0.09759001, 0.        , 0.        , 0.        ,\n",
       "       0.15569979, 0.        , 0.        , 0.        , 0.        ,\n",
       "       0.        , 0.09759001, 0.        , 0.        , 0.        ,\n",
       "       0.        , 0.        , 0.        , 0.        , 0.        ,\n",
       "       0.        , 0.        , 0.09759001, 0.        , 0.        ,\n",
       "       0.        , 0.        , 0.        , 0.        , 0.        ,\n",
       "       0.        , 0.        , 0.        , 0.09759001, 0.        ,\n",
       "       0.        , 0.        , 0.15569979, 0.        , 0.        ,\n",
       "       0.        , 0.        , 0.        , 0.09759001, 0.        ,\n",
       "       0.        , 0.        , 0.        , 0.        , 0.        ,\n",
       "       0.        , 0.        , 0.        , 0.        , 0.09759001,\n",
       "       0.        , 0.        , 0.        , 0.        , 0.        ,\n",
       "       0.        , 0.        , 0.        , 0.        , 0.        ,\n",
       "       0.09759001, 0.        , 0.        , 0.        , 0.15569979,\n",
       "       0.        , 0.        , 0.        , 0.        , 0.        ,\n",
       "       0.09759001, 0.        , 0.        , 0.        , 0.        ,\n",
       "       0.        , 0.        , 0.        , 0.        , 0.        ,\n",
       "       0.        , 0.09759001, 0.        , 0.        , 0.        ,\n",
       "       0.        , 0.        , 0.        , 0.        , 0.        ,\n",
       "       0.        , 0.        , 0.09759001, 0.        , 0.        ,\n",
       "       0.        , 0.15569979, 0.        , 0.        , 0.        ,\n",
       "       0.        , 0.        , 0.09759001, 0.        , 0.        ,\n",
       "       0.        , 0.        , 0.        , 0.        , 0.        ,\n",
       "       0.        , 0.        , 0.        , 0.09759001, 0.        ,\n",
       "       0.        , 0.        , 0.        , 0.        , 0.        ,\n",
       "       0.        , 0.        , 0.        , 0.        , 0.09759001,\n",
       "       0.        , 0.        , 0.        , 0.15569979, 0.        ,\n",
       "       0.        , 0.        , 0.        , 0.        , 0.09759001,\n",
       "       0.        , 0.        , 0.        , 0.        , 0.        ,\n",
       "       0.        , 0.        , 0.        , 0.        , 0.        ,\n",
       "       0.09759001, 0.        , 0.        , 0.        , 0.        ,\n",
       "       0.        , 0.        , 0.        , 0.        , 0.        ,\n",
       "       0.        , 0.09759001, 0.        , 0.        , 0.        ,\n",
       "       0.15569979, 0.        , 0.        , 0.        , 0.        ,\n",
       "       0.        , 0.09759001, 0.        , 0.        , 0.        ,\n",
       "       0.        , 0.        , 0.        , 0.        , 0.        ,\n",
       "       0.        , 0.        , 0.09759001, 0.        , 0.        ,\n",
       "       0.        , 0.        , 0.        , 0.        , 0.        ,\n",
       "       0.        , 0.        , 0.        , 0.09759001, 0.        ,\n",
       "       0.        , 0.        , 0.15569979, 0.        , 0.        ,\n",
       "       0.        , 0.        , 0.        , 0.09759001, 0.        ,\n",
       "       0.        , 0.        , 0.        , 0.        , 0.        ,\n",
       "       0.        , 0.        , 0.        , 0.        , 0.09759001,\n",
       "       0.        , 0.        , 0.        , 0.        , 0.        ,\n",
       "       0.        , 0.        , 0.        , 0.        , 0.        ,\n",
       "       0.09759001, 0.        , 0.        , 0.        , 0.15569979,\n",
       "       0.        , 0.        , 0.        , 0.        , 0.        ,\n",
       "       0.09759001, 0.        , 0.        , 0.        , 0.        ,\n",
       "       0.        , 0.        , 0.        , 0.        , 0.        ,\n",
       "       0.        , 0.09759001, 0.        , 0.        , 0.        ,\n",
       "       0.        , 0.        , 0.        , 0.        , 0.        ,\n",
       "       0.        , 0.        , 0.09759001, 0.        , 0.        ,\n",
       "       0.        , 0.15569979, 0.        , 0.        , 0.        ,\n",
       "       0.        , 0.        , 0.09759001, 0.        , 0.        ,\n",
       "       0.        , 0.        , 0.        , 0.        , 0.        ,\n",
       "       0.        , 0.        , 0.        , 0.09759001, 0.        ,\n",
       "       0.        , 0.        , 0.        , 0.        , 0.        ,\n",
       "       0.        , 0.        , 0.        , 0.        , 0.09759001,\n",
       "       0.        , 0.        , 0.        , 0.15569979, 0.        ,\n",
       "       0.        , 0.        , 0.        , 0.        , 0.09759001,\n",
       "       0.        , 0.        , 0.        , 0.        , 0.        ,\n",
       "       0.        , 0.        , 0.        , 0.        , 0.        ,\n",
       "       0.09759001, 0.        , 0.        , 0.        , 0.        ,\n",
       "       0.        , 0.        , 0.        , 0.        , 0.        ,\n",
       "       0.        , 0.09759001, 0.        , 0.        , 0.        ,\n",
       "       0.15569979, 0.        , 0.        , 0.        , 0.        ,\n",
       "       0.        , 0.09759001, 0.        , 0.        , 0.        ,\n",
       "       0.        , 0.        , 0.        , 0.        , 0.        ,\n",
       "       0.        , 0.        , 0.09759001, 0.        , 0.        ,\n",
       "       0.        , 0.        , 0.        , 0.        , 0.        ,\n",
       "       0.        , 0.        , 0.        , 0.09759001, 0.        ,\n",
       "       0.        , 0.        , 0.15569979, 0.        , 0.        ,\n",
       "       0.        , 0.        , 0.        , 0.09759001, 0.        ,\n",
       "       0.        , 0.        , 0.        , 0.        , 0.        ,\n",
       "       0.        , 0.        , 0.        , 0.        , 0.09759001,\n",
       "       0.        , 0.        , 0.        , 0.        , 0.        ,\n",
       "       0.        , 0.        , 0.        , 0.        , 0.        ,\n",
       "       0.09759001, 0.        , 0.        , 0.        , 0.15569979,\n",
       "       0.        , 0.        , 0.        , 0.        , 0.        ,\n",
       "       0.09759001, 0.        , 0.        , 0.        , 0.        ,\n",
       "       0.        , 0.        , 0.        , 0.        , 0.        ,\n",
       "       0.        , 0.09759001, 0.        , 0.        , 0.        ,\n",
       "       0.        , 0.        , 0.        , 0.        , 0.        ,\n",
       "       0.        , 0.        , 0.09759001, 0.        , 0.        ,\n",
       "       0.        , 0.15569979, 0.        , 0.        , 0.        ,\n",
       "       0.        , 0.        , 0.09759001, 0.        , 0.        ,\n",
       "       0.        , 0.        , 0.        , 0.        , 0.        ,\n",
       "       0.        , 0.        , 0.        , 0.09759001, 0.        ,\n",
       "       0.        , 0.        , 0.        , 0.        , 0.        ,\n",
       "       0.        , 0.        , 0.        , 0.        , 0.09759001,\n",
       "       0.        , 0.        , 0.        , 0.15569979, 0.15569979,\n",
       "       0.15569979, 0.15569979, 0.15569979, 0.15569979, 0.15569979,\n",
       "       0.        , 0.        , 0.        , 0.15569979, 0.15569979,\n",
       "       0.15569979, 0.15569979, 0.15569979, 0.15569979, 0.15569979,\n",
       "       0.        , 0.        , 0.        , 0.15569979, 0.15569979,\n",
       "       0.15569979, 0.15569979, 0.15569979, 0.15569979, 0.15569979,\n",
       "       0.        , 0.        , 0.        , 0.15569979, 0.15569979,\n",
       "       0.15569979, 0.15569979, 0.15569979, 0.15569979, 0.15569979,\n",
       "       0.        , 0.        , 0.        , 0.15569979, 0.15569979,\n",
       "       0.15569979, 0.15569979, 0.15569979, 0.15569979, 0.15569979])"
      ]
     },
     "execution_count": 181,
     "metadata": {},
     "output_type": "execute_result"
    }
   ],
   "source": [
    "cosine_similarity(vectors)\n",
    "similarity = cosine_similarity(vectors)\n",
    "similarity[1]"
   ]
  },
  {
   "cell_type": "code",
   "execution_count": 188,
   "metadata": {},
   "outputs": [],
   "source": [
    "def recommend(medicine):\n",
    "    if medicine in new_df['Drug_Name'].values:\n",
    "        medicine_index = new_df[new_df['Drug_Name'] == medicine].index[0]\n",
    "        distances = similarity[medicine_index]\n",
    "        medicines_list = sorted(list(enumerate(distances)), reverse=True, key=lambda x: x[1])[1:6]\n",
    "        # Rest of your code for recommendations\n",
    "    else:\n",
    "        print(f\"The medicine '{medicine}' was not found in the DataFrame.\")"
   ]
  }
 ],
 "metadata": {
  "kernelspec": {
   "display_name": "Python 3",
   "language": "python",
   "name": "python3"
  },
  "language_info": {
   "codemirror_mode": {
    "name": "ipython",
    "version": 3
   },
   "file_extension": ".py",
   "mimetype": "text/x-python",
   "name": "python",
   "nbconvert_exporter": "python",
   "pygments_lexer": "ipython3",
   "version": "3.10.4"
  }
 },
 "nbformat": 4,
 "nbformat_minor": 2
}
